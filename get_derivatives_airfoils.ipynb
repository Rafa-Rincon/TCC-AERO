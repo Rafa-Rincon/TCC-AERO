{
 "cells": [
  {
   "cell_type": "code",
   "execution_count": 12,
   "id": "59266f2d",
   "metadata": {},
   "outputs": [],
   "source": [
    "import aerosandbox as asb\n",
    "import numpy as np\n",
    "import pandas as pd"
   ]
  },
  {
   "cell_type": "code",
   "execution_count": 13,
   "id": "43682b2d",
   "metadata": {},
   "outputs": [],
   "source": [
    "df = pd.read_excel(r'C:\\Users\\Rafael\\Downloads\\airfoil_data_to_diff.xlsx')"
   ]
  },
  {
   "cell_type": "code",
   "execution_count": 14,
   "id": "fb50d623",
   "metadata": {},
   "outputs": [],
   "source": [
    "airfoils_names = df['AIRFOIL_NAME'].tolist()"
   ]
  },
  {
   "cell_type": "code",
   "execution_count": 15,
   "id": "8cdc3c4b",
   "metadata": {},
   "outputs": [],
   "source": [
    "def cosine_spacing(n_points):\n",
    "    \"\"\"\n",
    "    Generates a linspace from 0 to 1 using the cosine spacing distribution.\n",
    "    \n",
    "    Args:\n",
    "    - n_points: Number of points in the linspace.\n",
    "    \n",
    "    Returns:\n",
    "    - Array of n_points spaced according to the cosine distribution from 0 to 1.\n",
    "    \"\"\"\n",
    "    \n",
    "    i = np.arange(n_points)\n",
    "    x_i = 0.5 * (1 - np.cos(np.pi * i / (n_points - 1)))\n",
    "    \n",
    "    return x_i\n",
    "\n",
    "# Example usage:\n",
    "n = 150\n",
    "x = cosine_spacing(n)"
   ]
  },
  {
   "cell_type": "code",
   "execution_count": 16,
   "id": "60328f8a",
   "metadata": {
    "scrolled": true
   },
   "outputs": [],
   "source": [
    "from scipy.interpolate import interp1d\n",
    "\n",
    "x_values = np.linspace(0, 1, 150)\n",
    "# Create dictionaries to store the interpolation functions\n",
    "upper_interp_funcs = {}\n",
    "lower_interp_funcs = {}\n",
    "\n",
    "# Loop through each airfoil name\n",
    "for airfoil in airfoils_names:\n",
    "    # Filter dataframe for the current airfoil\n",
    "    airfoil_df = df[df['AIRFOIL_NAME'] == airfoil]\n",
    "    \n",
    "    # Extract y values for the upper and lower surfaces of the airfoil\n",
    "    y_upper = airfoil_df[[f'y_upper_{i}' for i in range(n)]].values[0]\n",
    "    y_lower = airfoil_df[[f'y_lower_{i}' for i in range(n)]].values[0]\n",
    "\n",
    "    # Create interpolation functions for the upper and lower surfaces\n",
    "    upper_interp_funcs[airfoil] = interp1d(x_values, y_upper, kind='cubic')\n",
    "    lower_interp_funcs[airfoil] = interp1d(x_values, y_lower, kind='cubic')"
   ]
  },
  {
   "cell_type": "code",
   "execution_count": 17,
   "id": "99452dd7",
   "metadata": {},
   "outputs": [
    {
     "name": "stdout",
     "output_type": "stream",
     "text": [
      "[0.01865    0.02602718 0.03291268 0.03671403 0.04019054] [0.01865    0.01282987 0.00749698 0.00522047 0.00336181]\n"
     ]
    }
   ],
   "source": [
    "# To test, return a few values to validate the interpolation functions for the first airfoil\n",
    "airfoil_test = airfoils_names[1]\n",
    "upper_sample = upper_interp_funcs[airfoil_test](x_values[:5])\n",
    "lower_sample = lower_interp_funcs[airfoil_test](x_values[:5])\n",
    "\n",
    "print(upper_sample, lower_sample)"
   ]
  },
  {
   "cell_type": "code",
   "execution_count": 18,
   "id": "afc2f072",
   "metadata": {},
   "outputs": [
    {
     "name": "stdout",
     "output_type": "stream",
     "text": [
      "[nan, 1.6163465331991285, 1.2095569291593196, 0.9257257503683669, 0.8679400729620645] [nan, -0.46147592699810963, -0.11754814226985419, 0.11506849556357224, 0.09407415609008485]\n"
     ]
    }
   ],
   "source": [
    "from scipy.misc import derivative\n",
    "\n",
    "# Function to compute the derivative of the interpolated function\n",
    "def compute_derivative(interp_function, x_values):\n",
    "    return [derivative(interp_function, x_val, dx=1e-6) for x_val in x_values]\n",
    "\n",
    "# Dictionaries to store the derivative values for all airfoils\n",
    "upper_derivatives_all = {}\n",
    "lower_derivatives_all = {}\n",
    "\n",
    "# Loop through each airfoil name\n",
    "for airfoil in airfoils_names:\n",
    "    # Compute the derivatives while avoiding the boundary values\n",
    "    upper_derivatives = compute_derivative(upper_interp_funcs[airfoil], x_values[1:-1])\n",
    "    lower_derivatives = compute_derivative(lower_interp_funcs[airfoil], x_values[1:-1])\n",
    "    \n",
    "    # Add NaN to the beginning and end of the derivative lists to match the original size\n",
    "    upper_derivatives_all[airfoil] = [np.nan] + upper_derivatives + [np.nan]\n",
    "    lower_derivatives_all[airfoil] = [np.nan] + lower_derivatives + [np.nan]\n",
    "\n",
    "# To test, return a few derivative values to validate for the first airfoil\n",
    "airfoil_test = airfoils_names[0]\n",
    "upper_derivatives_sample = upper_derivatives_all[airfoil_test][:5]\n",
    "lower_derivatives_sample = lower_derivatives_all[airfoil_test][:5]\n",
    "\n",
    "print(upper_derivatives_sample, lower_derivatives_sample)"
   ]
  },
  {
   "cell_type": "code",
   "execution_count": 19,
   "id": "bd525faf",
   "metadata": {},
   "outputs": [],
   "source": [
    "# Prepare a list to store the data\n",
    "data = []\n",
    "\n",
    "# Loop through each airfoil name\n",
    "for airfoil in airfoils_names:\n",
    "    # Create a dictionary for each airfoil\n",
    "    airfoil_data = {'AIRFOIL NAME': airfoil}\n",
    "    \n",
    "    # Populate the dictionary with upper and lower derivatives\n",
    "    for idx, value in enumerate(upper_derivatives_all[airfoil]):\n",
    "        airfoil_data[f'upper_derivative_{idx}'] = value\n",
    "    \n",
    "    for idx, value in enumerate(lower_derivatives_all[airfoil]):\n",
    "        airfoil_data[f'lower_derivative_{idx}'] = value\n",
    "        \n",
    "    # Append the dictionary to the data list\n",
    "    data.append(airfoil_data)\n",
    "\n",
    "# Convert the list of dictionaries into a DataFrame\n",
    "df_derivatives = pd.DataFrame(data)\n",
    "\n",
    "# Write the DataFrame to Excel\n",
    "df_derivatives.to_excel('airfoil_derivatives2.xlsx', index=False, engine='openpyxl')"
   ]
  },
  {
   "cell_type": "code",
   "execution_count": null,
   "id": "514d09d9",
   "metadata": {},
   "outputs": [],
   "source": []
  },
  {
   "cell_type": "code",
   "execution_count": null,
   "id": "e4ab03a1",
   "metadata": {},
   "outputs": [],
   "source": []
  },
  {
   "cell_type": "code",
   "execution_count": null,
   "id": "3b54a8eb",
   "metadata": {},
   "outputs": [],
   "source": []
  }
 ],
 "metadata": {
  "kernelspec": {
   "display_name": "Python 3 (ipykernel)",
   "language": "python",
   "name": "python3"
  },
  "language_info": {
   "codemirror_mode": {
    "name": "ipython",
    "version": 3
   },
   "file_extension": ".py",
   "mimetype": "text/x-python",
   "name": "python",
   "nbconvert_exporter": "python",
   "pygments_lexer": "ipython3",
   "version": "3.11.5"
  }
 },
 "nbformat": 4,
 "nbformat_minor": 5
}
